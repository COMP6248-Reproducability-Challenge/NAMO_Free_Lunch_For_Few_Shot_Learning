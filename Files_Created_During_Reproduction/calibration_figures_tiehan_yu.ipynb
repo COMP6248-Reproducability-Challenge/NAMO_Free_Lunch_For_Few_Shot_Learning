{
 "cells": [
  {
   "cell_type": "code",
   "execution_count": 1,
   "metadata": {
    "pycharm": {
     "name": "#%%\n"
    }
   },
   "outputs": [
    {
     "name": "stdout",
     "output_type": "stream",
     "text": [
      "Guaranteed number of items per class: 48\n",
      "\n",
      "Total of 50 classes, 48 elements each, with dimension 640\n",
      "\n",
      "reloading random states from file....\n",
      "generating task from 0 to 100\n",
      "Start classification for 100 tasks...\n"
     ]
    },
    {
     "name": "stderr",
     "output_type": "stream",
     "text": [
      "100%|██████████| 100/100 [18:05<00:00, 10.85s/it]"
     ]
    },
    {
     "name": "stdout",
     "output_type": "stream",
     "text": [
      "CUB 5 way 5 shot  ACC : 0.892600\n"
     ]
    },
    {
     "name": "stderr",
     "output_type": "stream",
     "text": [
      "\n"
     ]
    }
   ],
   "source": [
    "import pickle\n",
    "import numpy as np\n",
    "import torch\n",
    "from sklearn.linear_model import LogisticRegression\n",
    "from tqdm import tqdm\n",
    "use_gpu = torch.cuda.is_available()\n",
    "\n",
    "\n",
    "\n",
    "def distribution_calibration(query, base_means, base_cov, k,alpha=0.21):\n",
    "    dist = []\n",
    "    for i in range(len(base_means)):\n",
    "        dist.append(np.linalg.norm(query-base_means[i]))\n",
    "    index = np.argpartition(dist, k)[:k]\n",
    "    mean = np.concatenate([np.array(base_means)[index], query[np.newaxis, :]])\n",
    "    calibrated_mean = np.mean(mean, axis=0)\n",
    "    calibrated_cov = np.mean(np.array(base_cov)[index], axis=0)+alpha\n",
    "\n",
    "    return calibrated_mean, calibrated_cov\n",
    "\n",
    "\n",
    "if __name__ == '__main__':\n",
    "    # ---- data loading\n",
    "    dataset = 'CUB'\n",
    "    n_shot = 5\n",
    "    n_ways = 5\n",
    "    n_queries = 20\n",
    "    n_runs = 100\n",
    "    n_lsamples = n_ways * n_shot\n",
    "    n_usamples = n_ways * n_queries\n",
    "    n_samples = n_lsamples + n_usamples\n",
    "\n",
    "\n",
    "    import FSLTask\n",
    "    cfg = {'shot': n_shot, 'ways': n_ways, 'queries': n_queries}\n",
    "    FSLTask.loadDataSet(dataset)\n",
    "    FSLTask.setRandomStates(cfg)\n",
    "    ndatas = FSLTask.GenerateRunSet(end=n_runs, cfg=cfg)\n",
    "    ndata_orign = FSLTask.GenerateOrigin(cfg = cfg)\n",
    "    ndatas = ndatas.permute(0, 2, 1, 3).reshape(n_runs, n_samples, -1)\n",
    "    labels = torch.arange(n_ways).view(1, 1, n_ways).expand(n_runs, n_shot + n_queries, 5).clone().view(n_runs,\n",
    "                                                                                                        n_samples)\n",
    "    # ---- Base class statistics\n",
    "    base_means = []\n",
    "    base_cov = []\n",
    "    X_aug = []\n",
    "    Y_aug = []\n",
    "    support_data = []\n",
    "    sampled_data = []\n",
    "    base_features_path = ./filelists/%s/base_features.plk\"%dataset      # /WideResNet28_10_S2M2_R/last\n",
    "    with open(base_features_path, 'rb') as f:\n",
    "        data = pickle.load(f)\n",
    "        for key in data.keys():\n",
    "            feature = np.array(data[key])\n",
    "            mean = np.mean(feature, axis=0)\n",
    "            cov = np.cov(feature.T)\n",
    "            base_means.append(mean)\n",
    "            base_cov.append(cov)\n",
    "\n",
    "    # ---- classification for each task\n",
    "    acc_list = []\n",
    "    print('Start classification for %d tasks...'%(n_runs))\n",
    "    for i in tqdm(range(n_runs)):\n",
    "\n",
    "        support_data = ndatas[i][:n_lsamples].numpy()\n",
    "        support_label = labels[i][:n_lsamples].numpy()\n",
    "        query_data = ndatas[i][n_lsamples:].numpy()\n",
    "        query_label = labels[i][n_lsamples:].numpy()\n",
    "        # ---- Tukey's transform\n",
    "        # beta = 2  # -1 to 1\n",
    "        # support_data = np.power(support_data[:, ] , beta)\n",
    "        # query_data = np.power(query_data[:, ] , beta)\n",
    "        # ---- distribution calibration and feature sampling\n",
    "        sampled_data = []\n",
    "        sampled_label = []\n",
    "        num_sampled = int(750/n_shot)\n",
    "        # without DC\n",
    "        for i in range(n_lsamples):\n",
    "            mean, cov = distribution_calibration(support_data[i], base_means, base_cov, k=2)\n",
    "            sampled_data.append(np.random.multivariate_normal(mean=mean, cov=cov, size=num_sampled))\n",
    "            sampled_label.extend([support_label[i]]*num_sampled)\n",
    "        sampled_data = np.concatenate([sampled_data[:]]).reshape(n_ways * n_shot * num_sampled, -1)\n",
    "        X_aug = np.concatenate([support_data, sampled_data])\n",
    "        Y_aug = np.concatenate([support_label, sampled_label])\n",
    "        # X_aug = support_data\n",
    "        # Y_aug = support_label\n",
    "        # ---- train classifier\n",
    "        classifier = LogisticRegression(max_iter=1000).fit(X=X_aug, y=Y_aug)\n",
    "\n",
    "\n",
    "\n",
    "        predicts = classifier.predict(query_data)\n",
    "        acc = np.mean(predicts == query_label)\n",
    "        acc_list.append(acc)\n",
    "    print('%s %d way %d shot  ACC : %f'%(dataset,n_ways,n_shot,float(np.mean(acc_list))))\n",
    "\n"
   ]
  },
  {
   "cell_type": "code",
   "execution_count": 2,
   "metadata": {
    "pycharm": {
     "name": "#%%\n"
    }
   },
   "outputs": [],
   "source": [
    "    X_aug_train = X_aug \n",
    "    Y_aug_train = Y_aug"
   ]
  },
  {
   "cell_type": "code",
   "execution_count": 3,
   "metadata": {
    "pycharm": {
     "name": "#%%\n"
    }
   },
   "outputs": [
    {
     "name": "stdout",
     "output_type": "stream",
     "text": [
      "torch.Size([5, 48, 640])\n"
     ]
    }
   ],
   "source": [
    "print(ndata_orign.shape)"
   ]
  },
  {
   "cell_type": "code",
   "execution_count": 4,
   "metadata": {
    "pycharm": {
     "name": "#%%\n"
    }
   },
   "outputs": [],
   "source": [
    "from sklearn.decomposition import PCA\n",
    "from sklearn.manifold import TSNE\n",
    "ndata_orign = FSLTask.GenerateOrigin(cfg = cfg)\n",
    "\n",
    "\n",
    "x_plot_0 = ndata_orign[0,:,:]\n",
    "x_plot_1 = ndata_orign[1,:,:]\n",
    "x_plot_2 = ndata_orign[2,:,:]\n",
    "x_polt_3 = ndata_orign[3,:,:]\n",
    "x_plot_4 = ndata_orign[4,:,:]\n",
    "\n",
    "X_origin = np.concatenate([support_data,x_plot_0,x_plot_1,x_plot_2,x_polt_3,x_plot_4])\n",
    "Y_origin = []\n",
    "\n",
    "\n",
    "for i in range(5): \n",
    "    Y_zero = np.full((48), i)  #48 600\n",
    "    Y_origin = np.concatenate([Y_origin,Y_zero])\n",
    "    \n",
    "Y_origin = np.concatenate([support_label,Y_origin])\n",
    "# pca = PCA(n_components=2)\n",
    "# x_plot_origin=pca.fit_transform(X_origin)\n",
    "\n",
    "\n",
    "tsne = TSNE(n_components=2)\n",
    "tsne.fit_transform(X_origin)\n",
    "\n",
    "\n",
    "x_plot_origin = tsne.embedding_ \n",
    "\n",
    "# print(x_plot_origin.shape)\n",
    "\n"
   ]
  },
  {
   "cell_type": "code",
   "execution_count": null,
   "metadata": {
    "pycharm": {
     "name": "#%%\n"
    }
   },
   "outputs": [],
   "source": [
    "\n",
    "\n"
   ]
  },
  {
   "cell_type": "code",
   "execution_count": 5,
   "metadata": {
    "pycharm": {
     "name": "#%%\n"
    }
   },
   "outputs": [],
   "source": [
    "from sklearn.decomposition import PCA\n",
    "from sklearn.manifold import TSNE\n",
    "\n",
    "\n",
    "x_plot_0 = []\n",
    "x_plot_1 = []\n",
    "x_plot_2 = []\n",
    "x_polt_3 = []\n",
    "x_plot_4 = []\n",
    "\n",
    "x_plot_o_0 = []\n",
    "x_plot_o_1 = []\n",
    "x_plot_o_2 = []\n",
    "x_plot_o_3 = []\n",
    "x_plot_o_4 = []\n",
    "\n",
    "X_aug = X_aug_train\n",
    "Y_aug = Y_aug_train\n",
    "\n",
    "# pca = PCA(n_components=2)\n",
    "# x_plot=pca.fit_transform(X_aug)#\n",
    "\n",
    "\n",
    "tsne = TSNE(n_components=2)\n",
    "tsne.fit_transform(X_aug)\n",
    "\n",
    "\n",
    "x_plot = tsne.embedding_ \n",
    "\n",
    "\n",
    "\n",
    "# X_compose = np.concatenate([X_origin,X_aug])\n",
    "\n",
    "# # pca = PCA(n_components=2)\n",
    "# # x_copose=pca.fit_transform(X_compose)#\n",
    "# tsne = TSNE(n_components=2)\n",
    "# tsne.fit_transform(X_compose)\n",
    "# x_copose = tsne.embedding_ \n",
    "\n",
    "# x_plot_origin = x_copose[:X_origin.shape[0]]\n",
    "# x_plot = x_copose[-X_aug.shape[0]:,:]\n",
    "\n",
    "\n",
    "for i in range(x_plot.shape[0]):\n",
    "    if Y_aug[i] ==0:\n",
    "        x_plot_0.append(x_plot[i])\n",
    "    if Y_aug[i] ==1:\n",
    "        x_plot_1.append(x_plot[i])\n",
    "    if Y_aug[i] ==2:\n",
    "        x_plot_2.append(x_plot[i])\n",
    "    if Y_aug[i] ==3:\n",
    "        x_polt_3.append(x_plot[i])\n",
    "    if Y_aug[i] ==4:\n",
    "        x_plot_4.append(x_plot[i])\n",
    "\n"
   ]
  },
  {
   "cell_type": "code",
   "execution_count": 6,
   "metadata": {
    "pycharm": {
     "name": "#%%\n"
    }
   },
   "outputs": [
    {
     "name": "stdout",
     "output_type": "stream",
     "text": [
      "(265, 640)\n"
     ]
    }
   ],
   "source": [
    "print(X_origin.shape)"
   ]
  },
  {
   "cell_type": "code",
   "execution_count": 7,
   "metadata": {
    "pycharm": {
     "name": "#%%\n"
    }
   },
   "outputs": [],
   "source": [
    "\n",
    "for i in range(x_plot_origin.shape[0]):\n",
    "    if Y_origin[i] ==0:\n",
    "        x_plot_o_0.append(x_plot_origin[i])\n",
    "    if Y_origin[i] ==1:\n",
    "        x_plot_o_1.append(x_plot_origin[i])\n",
    "    if Y_origin[i] ==2:\n",
    "        x_plot_o_2.append(x_plot_origin[i])\n",
    "    if Y_origin[i] ==3:\n",
    "        x_plot_o_3.append(x_plot_origin[i])\n",
    "    if Y_origin[i] ==4:\n",
    "        x_plot_o_4.append(x_plot_origin[i])\n"
   ]
  },
  {
   "cell_type": "code",
   "execution_count": 8,
   "metadata": {
    "pycharm": {
     "name": "#%%\n"
    }
   },
   "outputs": [
    {
     "data": {
      "text/plain": [
       "<matplotlib.collections.PathCollection at 0x7feb25aae3a0>"
      ]
     },
     "execution_count": 8,
     "metadata": {},
     "output_type": "execute_result"
    },
    {
     "data": {
      "image/png": "[encoded data removed]",
      "text/plain": [
       "<Figure size 288x288 with 1 Axes>"
      ]
     },
     "metadata": {
      "needs_background": "light"
     },
     "output_type": "display_data"
    },
    {
     "data": {
      "image/png": "[encoded data removed]",
      "text/plain": [
       "<Figure size 288x288 with 1 Axes>"
      ]
     },
     "metadata": {
      "needs_background": "light"
     },
     "output_type": "display_data"
    }
   ],
   "source": [
    "import numpy as np\n",
    "import matplotlib.pyplot as plt\n",
    "\n",
    "s_ = 300\n",
    "marker_ = \"*\"\n",
    "\n",
    "x_plot_0 = np.array(x_plot_0)\n",
    "x_plot_1 = np.array(x_plot_1)\n",
    "x_plot_2 = np.array(x_plot_2)\n",
    "x_plot_3 = np.array(x_polt_3)\n",
    "x_plot_4 = np.array(x_plot_4)\n",
    "\n",
    "x_plot_o_0 = np.array(x_plot_o_0)\n",
    "x_plot_o_1 = np.array(x_plot_o_1)\n",
    "x_plot_o_2 = np.array(x_plot_o_2)\n",
    "x_plot_o_3 = np.array(x_plot_o_3)\n",
    "x_plot_o_4 = np.array(x_plot_o_4)\n",
    "\n",
    "fig, ax = plt.subplots(figsize=(4,4))\n",
    "ax.scatter(x_plot_0[:,0], x_plot_0[:,1], c=\"y\", s=1)\n",
    "ax.scatter(x_plot_1[:,0], x_plot_1[:,1], c=\"r\", s=1)\n",
    "ax.scatter(x_plot_2[:,0], x_plot_2[:,1], c=\"blueviolet\", s=1)\n",
    "ax.scatter(x_plot_3[:,0], x_plot_3[:,1], c=\"g\", s=1)\n",
    "ax.scatter(x_plot_4[:,0], x_plot_4[:,1], c=\"c\", s=1)\n",
    "\n",
    "ax.scatter(x_plot_0[0,0], x_plot_0[0,1], c=\"y\",marker=marker_, s=s_)\n",
    "ax.scatter(x_plot_1[0,0], x_plot_1[0,1], c=\"r\",marker=marker_, s=s_)\n",
    "ax.scatter(x_plot_2[0,0], x_plot_2[0,1], c=\"blueviolet\",marker=marker_, s=s_)\n",
    "ax.scatter(x_plot_3[0,0], x_plot_3[0,1], c=\"g\",marker=marker_, s=s_)\n",
    "ax.scatter(x_plot_4[0,0], x_plot_4[0,1], c=\"c\",marker=marker_, s=s_)\n",
    "\n",
    "\n",
    "# for i in range(5):\n",
    "fig, ax = plt.subplots(figsize=(4,4))\n",
    "plt.xlim(-70, 60)\n",
    "plt.ylim(-70, 70)\n",
    "ax.scatter(x_plot_o_0[:,0], x_plot_o_0[:,1], c=\"y\", s=1)\n",
    "ax.scatter(x_plot_o_1[:,0], x_plot_o_1[:,1], c=\"r\", s=1)\n",
    "ax.scatter(x_plot_o_2[:,0], x_plot_o_2[:,1], c=\"blueviolet\", s=1)\n",
    "ax.scatter(x_plot_o_3[:,0], x_plot_o_3[:,1], c=\"g\", s=1)\n",
    "ax.scatter(x_plot_o_4[:,0], x_plot_o_4[:,1], c=\"c\", s=1)\n",
    "\n",
    "ax.scatter(x_plot_o_0[0,0], x_plot_o_0[0,1], c=\"y\",marker=marker_, s=s_)\n",
    "ax.scatter(x_plot_o_1[0,0], x_plot_o_1[0,1], c=\"r\",marker=marker_, s=s_)\n",
    "ax.scatter(x_plot_o_2[0,0], x_plot_o_2[0,1], c=\"blueviolet\",marker=marker_, s=s_)\n",
    "ax.scatter(x_plot_o_3[0,0], x_plot_o_3[0,1], c=\"g\",marker=marker_, s=s_)\n",
    "ax.scatter(x_plot_o_4[0,0], x_plot_o_4[0,1], c=\"c\",marker=marker_, s=s_)\n",
    "\n"
   ]
  },
  {
   "cell_type": "code",
   "execution_count": null,
   "metadata": {
    "pycharm": {
     "name": "#%%\n"
    }
   },
   "outputs": [],
   "source": []
  }
 ],
 "metadata": {
  "interpreter": {
   "hash": "55184a16e985066e260f55a8e0371336710f7b77d833311673b4f696152da62b"
  },
  "kernelspec": {
   "display_name": "Python 3.9.7 ('base')",
   "language": "python",
   "name": "python3"
  },
  "language_info": {
   "codemirror_mode": {
    "name": "ipython",
    "version": 3
   },
   "file_extension": ".py",
   "mimetype": "text/x-python",
   "name": "python",
   "nbconvert_exporter": "python",
   "pygments_lexer": "ipython3",
   "version": "3.9.7"
  },
  "orig_nbformat": 4
 },
 "nbformat": 4,
 "nbformat_minor": 2
}